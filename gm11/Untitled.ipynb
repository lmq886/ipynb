{
 "cells": [
  {
   "cell_type": "code",
   "execution_count": 2,
   "metadata": {},
   "outputs": [],
   "source": [
    "import numpy as np\n",
    "import pandas as pd\n",
    "import matplotlib.pyplot as plt"
   ]
  },
  {
   "cell_type": "code",
   "execution_count": 3,
   "metadata": {},
   "outputs": [
    {
     "data": {
      "text/html": [
       "<div>\n",
       "<style scoped>\n",
       "    .dataframe tbody tr th:only-of-type {\n",
       "        vertical-align: middle;\n",
       "    }\n",
       "\n",
       "    .dataframe tbody tr th {\n",
       "        vertical-align: top;\n",
       "    }\n",
       "\n",
       "    .dataframe thead th {\n",
       "        text-align: right;\n",
       "    }\n",
       "</style>\n",
       "<table border=\"1\" class=\"dataframe\">\n",
       "  <thead>\n",
       "    <tr style=\"text-align: right;\">\n",
       "      <th></th>\n",
       "      <th>时间</th>\n",
       "      <th>人口</th>\n",
       "    </tr>\n",
       "  </thead>\n",
       "  <tbody>\n",
       "    <tr>\n",
       "      <th>0</th>\n",
       "      <td>1985</td>\n",
       "      <td>101.02</td>\n",
       "    </tr>\n",
       "    <tr>\n",
       "      <th>1</th>\n",
       "      <td>1986</td>\n",
       "      <td>102.19</td>\n",
       "    </tr>\n",
       "    <tr>\n",
       "      <th>2</th>\n",
       "      <td>1987</td>\n",
       "      <td>106.50</td>\n",
       "    </tr>\n",
       "    <tr>\n",
       "      <th>3</th>\n",
       "      <td>1988</td>\n",
       "      <td>111.08</td>\n",
       "    </tr>\n",
       "    <tr>\n",
       "      <th>4</th>\n",
       "      <td>1989</td>\n",
       "      <td>113.28</td>\n",
       "    </tr>\n",
       "    <tr>\n",
       "      <th>5</th>\n",
       "      <td>1990</td>\n",
       "      <td>115.97</td>\n",
       "    </tr>\n",
       "    <tr>\n",
       "      <th>6</th>\n",
       "      <td>1991</td>\n",
       "      <td>118.02</td>\n",
       "    </tr>\n",
       "    <tr>\n",
       "      <th>7</th>\n",
       "      <td>1992</td>\n",
       "      <td>119.99</td>\n",
       "    </tr>\n",
       "    <tr>\n",
       "      <th>8</th>\n",
       "      <td>1993</td>\n",
       "      <td>123.23</td>\n",
       "    </tr>\n",
       "    <tr>\n",
       "      <th>9</th>\n",
       "      <td>1994</td>\n",
       "      <td>132.37</td>\n",
       "    </tr>\n",
       "    <tr>\n",
       "      <th>10</th>\n",
       "      <td>1995</td>\n",
       "      <td>135.95</td>\n",
       "    </tr>\n",
       "    <tr>\n",
       "      <th>11</th>\n",
       "      <td>1996</td>\n",
       "      <td>138.82</td>\n",
       "    </tr>\n",
       "    <tr>\n",
       "      <th>12</th>\n",
       "      <td>1997</td>\n",
       "      <td>143.18</td>\n",
       "    </tr>\n",
       "    <tr>\n",
       "      <th>13</th>\n",
       "      <td>1998</td>\n",
       "      <td>146.51</td>\n",
       "    </tr>\n",
       "    <tr>\n",
       "      <th>14</th>\n",
       "      <td>1999</td>\n",
       "      <td>151.54</td>\n",
       "    </tr>\n",
       "    <tr>\n",
       "      <th>15</th>\n",
       "      <td>2000</td>\n",
       "      <td>159.47</td>\n",
       "    </tr>\n",
       "  </tbody>\n",
       "</table>\n",
       "</div>"
      ],
      "text/plain": [
       "      时间      人口\n",
       "0   1985  101.02\n",
       "1   1986  102.19\n",
       "2   1987  106.50\n",
       "3   1988  111.08\n",
       "4   1989  113.28\n",
       "5   1990  115.97\n",
       "6   1991  118.02\n",
       "7   1992  119.99\n",
       "8   1993  123.23\n",
       "9   1994  132.37\n",
       "10  1995  135.95\n",
       "11  1996  138.82\n",
       "12  1997  143.18\n",
       "13  1998  146.51\n",
       "14  1999  151.54\n",
       "15  2000  159.47"
      ]
     },
     "execution_count": 3,
     "metadata": {},
     "output_type": "execute_result"
    }
   ],
   "source": [
    "df = pd.read_excel(r\"E:\\大二下\\数据分析\\灰色预测\\gm.xlsx\")\n",
    "df"
   ]
  },
  {
   "cell_type": "code",
   "execution_count": 4,
   "metadata": {},
   "outputs": [
    {
     "data": {
      "text/plain": [
       "0     1985\n",
       "1     1986\n",
       "2     1987\n",
       "3     1988\n",
       "4     1989\n",
       "5     1990\n",
       "6     1991\n",
       "7     1992\n",
       "8     1993\n",
       "9     1994\n",
       "10    1995\n",
       "11    1996\n",
       "12    1997\n",
       "13    1998\n",
       "14    1999\n",
       "15    2000\n",
       "Name: 时间, dtype: int64"
      ]
     },
     "execution_count": 4,
     "metadata": {},
     "output_type": "execute_result"
    }
   ],
   "source": [
    "k = df['时间']\n",
    "k"
   ]
  },
  {
   "cell_type": "code",
   "execution_count": 5,
   "metadata": {},
   "outputs": [
    {
     "data": {
      "text/plain": [
       "[1985,\n",
       " 1986,\n",
       " 1987,\n",
       " 1988,\n",
       " 1989,\n",
       " 1990,\n",
       " 1991,\n",
       " 1992,\n",
       " 1993,\n",
       " 1994,\n",
       " 1995,\n",
       " 1996,\n",
       " 1997,\n",
       " 1998,\n",
       " 1999,\n",
       " 2000]"
      ]
     },
     "execution_count": 5,
     "metadata": {},
     "output_type": "execute_result"
    }
   ],
   "source": [
    "[i for i in k]"
   ]
  },
  {
   "cell_type": "code",
   "execution_count": 6,
   "metadata": {},
   "outputs": [
    {
     "data": {
      "text/plain": [
       "0      101.02\n",
       "1      203.21\n",
       "2      309.71\n",
       "3      420.79\n",
       "4      534.07\n",
       "5      650.04\n",
       "6      768.06\n",
       "7      888.05\n",
       "8     1011.28\n",
       "9     1143.65\n",
       "10    1279.60\n",
       "11    1418.42\n",
       "12    1561.60\n",
       "13    1708.11\n",
       "14    1859.65\n",
       "15    2019.12\n",
       "Name: 人口, dtype: float64"
      ]
     },
     "execution_count": 6,
     "metadata": {},
     "output_type": "execute_result"
    }
   ],
   "source": [
    "lj = df['人口'].expanding(1).sum()\n",
    "lj"
   ]
  },
  {
   "cell_type": "code",
   "execution_count": 53,
   "metadata": {},
   "outputs": [
    {
     "data": {
      "text/plain": [
       "array([ -152.115,  -256.46 ,  -365.25 ,  -477.43 ,  -592.055,  -709.05 ,\n",
       "        -828.055,  -949.665, -1077.465, -1211.625, -1349.01 , -1490.01 ,\n",
       "       -1634.855, -1783.88 , -1939.385])"
      ]
     },
     "execution_count": 53,
     "metadata": {},
     "output_type": "execute_result"
    }
   ],
   "source": [
    "-df['人口'].expanding(1).sum().rolling(2,2).mean()[1:].values"
   ]
  },
  {
   "cell_type": "code",
   "execution_count": 7,
   "metadata": {},
   "outputs": [
    {
     "data": {
      "text/plain": [
       "1     -152.115\n",
       "2     -256.460\n",
       "3     -365.250\n",
       "4     -477.430\n",
       "5     -592.055\n",
       "6     -709.050\n",
       "7     -828.055\n",
       "8     -949.665\n",
       "9    -1077.465\n",
       "10   -1211.625\n",
       "11   -1349.010\n",
       "12   -1490.010\n",
       "13   -1634.855\n",
       "14   -1783.880\n",
       "15   -1939.385\n",
       "Name: 人口, dtype: float64"
      ]
     },
     "execution_count": 7,
     "metadata": {},
     "output_type": "execute_result"
    }
   ],
   "source": [
    "-lj.rolling(2,2).mean()[1:]"
   ]
  },
  {
   "cell_type": "code",
   "execution_count": 8,
   "metadata": {},
   "outputs": [],
   "source": [
    "Yn = df['人口'][1:].values"
   ]
  },
  {
   "cell_type": "code",
   "execution_count": null,
   "metadata": {},
   "outputs": [],
   "source": []
  },
  {
   "cell_type": "code",
   "execution_count": 9,
   "metadata": {},
   "outputs": [
    {
     "data": {
      "text/plain": [
       "array([[-1.521150e+02, -2.564600e+02, -3.652500e+02, -4.774300e+02,\n",
       "        -5.920550e+02, -7.090500e+02, -8.280550e+02, -9.496650e+02,\n",
       "        -1.077465e+03, -1.211625e+03, -1.349010e+03, -1.490010e+03,\n",
       "        -1.634855e+03, -1.783880e+03, -1.939385e+03],\n",
       "       [ 1.000000e+00,  1.000000e+00,  1.000000e+00,  1.000000e+00,\n",
       "         1.000000e+00,  1.000000e+00,  1.000000e+00,  1.000000e+00,\n",
       "         1.000000e+00,  1.000000e+00,  1.000000e+00,  1.000000e+00,\n",
       "         1.000000e+00,  1.000000e+00,  1.000000e+00]])"
      ]
     },
     "execution_count": 9,
     "metadata": {},
     "output_type": "execute_result"
    }
   ],
   "source": [
    "BT = np.vstack((-lj.rolling(2,2).mean()[1:].values,np.array([1 for _ in range(len(lj)-1)])))\n",
    "BT"
   ]
  },
  {
   "cell_type": "code",
   "execution_count": 10,
   "metadata": {},
   "outputs": [
    {
     "data": {
      "text/plain": [
       "matrix([[2.20200072e-07, 2.17503502e-04],\n",
       "        [2.17503502e-04, 2.81506621e-01]])"
      ]
     },
     "execution_count": 10,
     "metadata": {},
     "output_type": "execute_result"
    }
   ],
   "source": [
    "np.matrix(np.dot(BT,BT.T)).I"
   ]
  },
  {
   "cell_type": "code",
   "execution_count": 11,
   "metadata": {},
   "outputs": [
    {
     "data": {
      "text/plain": [
       "array([-2.03332027e+06,  1.91810000e+03])"
      ]
     },
     "execution_count": 11,
     "metadata": {},
     "output_type": "execute_result"
    }
   ],
   "source": [
    "np.dot(BT,Yn)"
   ]
  },
  {
   "cell_type": "code",
   "execution_count": 12,
   "metadata": {},
   "outputs": [
    {
     "data": {
      "text/plain": [
       "matrix([[-3.05438022e-02,  9.77035705e+01]])"
      ]
     },
     "execution_count": 12,
     "metadata": {},
     "output_type": "execute_result"
    }
   ],
   "source": [
    "a_ = np.dot(np.matrix(np.dot(BT,BT.T)).I,np.dot(BT,Yn))\n",
    "a_"
   ]
  },
  {
   "cell_type": "code",
   "execution_count": 13,
   "metadata": {},
   "outputs": [],
   "source": [
    "a = a_[[0],[0]]"
   ]
  },
  {
   "cell_type": "code",
   "execution_count": 14,
   "metadata": {},
   "outputs": [],
   "source": [
    "u=a_[[0],[1]]"
   ]
  },
  {
   "cell_type": "code",
   "execution_count": 15,
   "metadata": {},
   "outputs": [
    {
     "data": {
      "text/plain": [
       "matrix([[-3198.80183454]])"
      ]
     },
     "execution_count": 15,
     "metadata": {},
     "output_type": "execute_result"
    }
   ],
   "source": [
    "u/a"
   ]
  },
  {
   "cell_type": "code",
   "execution_count": 43,
   "metadata": {},
   "outputs": [
    {
     "data": {
      "text/plain": [
       "[101.01999999999998,\n",
       " 203.3641385063661,\n",
       " 308.88248556453027,\n",
       " 417.67348941078035,\n",
       " 529.8386516583541,\n",
       " 645.4826219980778,\n",
       " 764.7132958361494,\n",
       " 887.6419149601643,\n",
       " 1014.3831713272957,\n",
       " 1145.0553140714837,\n",
       " 1279.7802598294438,\n",
       " 1418.6837064884467,\n",
       " 1561.8952504620001,\n",
       " 1709.548507602829,\n",
       " 1861.78123786598,\n",
       " 2018.7354738383701]"
      ]
     },
     "execution_count": 43,
     "metadata": {},
     "output_type": "execute_result"
    }
   ],
   "source": [
    "x2=[]\n",
    "for i in k:\n",
    "    x2.append(np.float(((lj[0]-u/a)*np.exp(-a*(i - 1985))+u/a)))\n",
    "x2"
   ]
  },
  {
   "cell_type": "code",
   "execution_count": 50,
   "metadata": {},
   "outputs": [
    {
     "data": {
      "text/plain": [
       "[102.34413850636611,\n",
       " 105.51834705816418,\n",
       " 108.79100384625008,\n",
       " 112.16516224757379,\n",
       " 115.64397033972364,\n",
       " 119.23067383807165,\n",
       " 122.92861912401486,\n",
       " 126.74125636713143,\n",
       " 130.67214274418802,\n",
       " 134.72494575796009,\n",
       " 138.90344665900284,\n",
       " 143.2115439735535,\n",
       " 147.65325714082883,\n",
       " 152.2327302631511,\n",
       " 156.95423597239005]"
      ]
     },
     "execution_count": 50,
     "metadata": {},
     "output_type": "execute_result"
    }
   ],
   "source": [
    "yc = [] \n",
    "for m in range(1,len(x2)):\n",
    "    yc.append(x2[m]-x2[m-1])\n",
    "yc"
   ]
  },
  {
   "cell_type": "code",
   "execution_count": 48,
   "metadata": {},
   "outputs": [
    {
     "data": {
      "text/plain": [
       "[1, 2, 3, 4, 5, 6, 7, 8, 9, 10, 11, 12, 13, 14, 15]"
      ]
     },
     "execution_count": 48,
     "metadata": {},
     "output_type": "execute_result"
    }
   ],
   "source": []
  },
  {
   "cell_type": "code",
   "execution_count": 32,
   "metadata": {},
   "outputs": [
    {
     "data": {
      "text/plain": [
       "-3198.8018345410037"
      ]
     },
     "execution_count": 32,
     "metadata": {},
     "output_type": "execute_result"
    }
   ],
   "source": []
  },
  {
   "cell_type": "code",
   "execution_count": 21,
   "metadata": {},
   "outputs": [
    {
     "data": {
      "text/plain": [
       "matrix([[1.58115728]])"
      ]
     },
     "execution_count": 21,
     "metadata": {},
     "output_type": "execute_result"
    }
   ],
   "source": []
  },
  {
   "cell_type": "code",
   "execution_count": 37,
   "metadata": {},
   "outputs": [
    {
     "name": "stdout",
     "output_type": "stream",
     "text": [
      "[[3299.82183454]]\n"
     ]
    }
   ],
   "source": []
  },
  {
   "cell_type": "code",
   "execution_count": 41,
   "metadata": {},
   "outputs": [
    {
     "data": {
      "text/plain": [
       "1.0"
      ]
     },
     "execution_count": 41,
     "metadata": {},
     "output_type": "execute_result"
    }
   ],
   "source": []
  },
  {
   "cell_type": "code",
   "execution_count": null,
   "metadata": {},
   "outputs": [],
   "source": []
  }
 ],
 "metadata": {
  "kernelspec": {
   "display_name": "Python 3",
   "language": "python",
   "name": "python3"
  },
  "language_info": {
   "codemirror_mode": {
    "name": "ipython",
    "version": 3
   },
   "file_extension": ".py",
   "mimetype": "text/x-python",
   "name": "python",
   "nbconvert_exporter": "python",
   "pygments_lexer": "ipython3",
   "version": "3.8.5"
  }
 },
 "nbformat": 4,
 "nbformat_minor": 4
}
